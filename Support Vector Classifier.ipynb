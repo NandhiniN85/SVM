{
 "cells": [
  {
   "cell_type": "markdown",
   "metadata": {},
   "source": [
    "Import necessary libraries"
   ]
  },
  {
   "cell_type": "code",
   "execution_count": 22,
   "metadata": {},
   "outputs": [],
   "source": [
    "import pandas as pd\n",
    "import numpy as np\n",
    "from sklearn.model_selection import train_test_split\n",
    "import copy as copy\n",
    "import seaborn as sns\n",
    "import scipy.stats as stats\n",
    "import matplotlib.pyplot as plt\n",
    "from sklearn.preprocessing import LabelEncoder\n",
    "%matplotlib inline\n",
    "from scipy.stats import zscore, ttest_ind, chi2_contingency\n",
    "from scipy.stats import spearmanr,pointbiserialr\n",
    "import sklearn.metrics as metrics\n",
    "from statsmodels.formula.api import ols\n",
    "import statsmodels.api as sm\n",
    "from sklearn.preprocessing import MinMaxScaler\n",
    "from sklearn.model_selection import train_test_split\n",
    "from sklearn.metrics import confusion_matrix, precision_score\n",
    "from sklearn.metrics import recall_score,f1_score,roc_auc_score\n",
    "from sklearn.svm import SVC"
   ]
  },
  {
   "cell_type": "markdown",
   "metadata": {},
   "source": [
    "#### read the input file"
   ]
  },
  {
   "cell_type": "code",
   "execution_count": 34,
   "metadata": {},
   "outputs": [
    {
     "data": {
      "text/html": [
       "<div>\n",
       "<style scoped>\n",
       "    .dataframe tbody tr th:only-of-type {\n",
       "        vertical-align: middle;\n",
       "    }\n",
       "\n",
       "    .dataframe tbody tr th {\n",
       "        vertical-align: top;\n",
       "    }\n",
       "\n",
       "    .dataframe thead th {\n",
       "        text-align: right;\n",
       "    }\n",
       "</style>\n",
       "<table border=\"1\" class=\"dataframe\">\n",
       "  <thead>\n",
       "    <tr style=\"text-align: right;\">\n",
       "      <th></th>\n",
       "      <th>age</th>\n",
       "      <th>job</th>\n",
       "      <th>marital</th>\n",
       "      <th>education</th>\n",
       "      <th>default</th>\n",
       "      <th>balance</th>\n",
       "      <th>housing</th>\n",
       "      <th>loan</th>\n",
       "      <th>contact</th>\n",
       "      <th>day</th>\n",
       "      <th>month</th>\n",
       "      <th>duration</th>\n",
       "      <th>campaign</th>\n",
       "      <th>pdays</th>\n",
       "      <th>previous</th>\n",
       "      <th>poutcome</th>\n",
       "      <th>Target</th>\n",
       "    </tr>\n",
       "  </thead>\n",
       "  <tbody>\n",
       "    <tr>\n",
       "      <th>0</th>\n",
       "      <td>58</td>\n",
       "      <td>management</td>\n",
       "      <td>married</td>\n",
       "      <td>tertiary</td>\n",
       "      <td>no</td>\n",
       "      <td>2143</td>\n",
       "      <td>yes</td>\n",
       "      <td>no</td>\n",
       "      <td>unknown</td>\n",
       "      <td>5</td>\n",
       "      <td>may</td>\n",
       "      <td>261</td>\n",
       "      <td>1</td>\n",
       "      <td>-1</td>\n",
       "      <td>0</td>\n",
       "      <td>unknown</td>\n",
       "      <td>no</td>\n",
       "    </tr>\n",
       "    <tr>\n",
       "      <th>1</th>\n",
       "      <td>44</td>\n",
       "      <td>technician</td>\n",
       "      <td>single</td>\n",
       "      <td>secondary</td>\n",
       "      <td>no</td>\n",
       "      <td>29</td>\n",
       "      <td>yes</td>\n",
       "      <td>no</td>\n",
       "      <td>unknown</td>\n",
       "      <td>5</td>\n",
       "      <td>may</td>\n",
       "      <td>151</td>\n",
       "      <td>1</td>\n",
       "      <td>-1</td>\n",
       "      <td>0</td>\n",
       "      <td>unknown</td>\n",
       "      <td>no</td>\n",
       "    </tr>\n",
       "    <tr>\n",
       "      <th>2</th>\n",
       "      <td>33</td>\n",
       "      <td>entrepreneur</td>\n",
       "      <td>married</td>\n",
       "      <td>secondary</td>\n",
       "      <td>no</td>\n",
       "      <td>2</td>\n",
       "      <td>yes</td>\n",
       "      <td>yes</td>\n",
       "      <td>unknown</td>\n",
       "      <td>5</td>\n",
       "      <td>may</td>\n",
       "      <td>76</td>\n",
       "      <td>1</td>\n",
       "      <td>-1</td>\n",
       "      <td>0</td>\n",
       "      <td>unknown</td>\n",
       "      <td>no</td>\n",
       "    </tr>\n",
       "    <tr>\n",
       "      <th>3</th>\n",
       "      <td>47</td>\n",
       "      <td>blue-collar</td>\n",
       "      <td>married</td>\n",
       "      <td>unknown</td>\n",
       "      <td>no</td>\n",
       "      <td>1506</td>\n",
       "      <td>yes</td>\n",
       "      <td>no</td>\n",
       "      <td>unknown</td>\n",
       "      <td>5</td>\n",
       "      <td>may</td>\n",
       "      <td>92</td>\n",
       "      <td>1</td>\n",
       "      <td>-1</td>\n",
       "      <td>0</td>\n",
       "      <td>unknown</td>\n",
       "      <td>no</td>\n",
       "    </tr>\n",
       "    <tr>\n",
       "      <th>4</th>\n",
       "      <td>33</td>\n",
       "      <td>unknown</td>\n",
       "      <td>single</td>\n",
       "      <td>unknown</td>\n",
       "      <td>no</td>\n",
       "      <td>1</td>\n",
       "      <td>no</td>\n",
       "      <td>no</td>\n",
       "      <td>unknown</td>\n",
       "      <td>5</td>\n",
       "      <td>may</td>\n",
       "      <td>198</td>\n",
       "      <td>1</td>\n",
       "      <td>-1</td>\n",
       "      <td>0</td>\n",
       "      <td>unknown</td>\n",
       "      <td>no</td>\n",
       "    </tr>\n",
       "  </tbody>\n",
       "</table>\n",
       "</div>"
      ],
      "text/plain": [
       "   age           job  marital  education default  balance housing loan  \\\n",
       "0   58    management  married   tertiary      no     2143     yes   no   \n",
       "1   44    technician   single  secondary      no       29     yes   no   \n",
       "2   33  entrepreneur  married  secondary      no        2     yes  yes   \n",
       "3   47   blue-collar  married    unknown      no     1506     yes   no   \n",
       "4   33       unknown   single    unknown      no        1      no   no   \n",
       "\n",
       "   contact  day month  duration  campaign  pdays  previous poutcome Target  \n",
       "0  unknown    5   may       261         1     -1         0  unknown     no  \n",
       "1  unknown    5   may       151         1     -1         0  unknown     no  \n",
       "2  unknown    5   may        76         1     -1         0  unknown     no  \n",
       "3  unknown    5   may        92         1     -1         0  unknown     no  \n",
       "4  unknown    5   may       198         1     -1         0  unknown     no  "
      ]
     },
     "execution_count": 34,
     "metadata": {},
     "output_type": "execute_result"
    }
   ],
   "source": [
    "campaign_df = pd.read_csv('bank-full.csv')\n",
    "\n",
    "#take a deep copy of the dataset\n",
    "campaign_copy_df = copy.deepcopy(campaign_df)\n",
    "\n",
    "#display the first five rows\n",
    "campaign_copy_df.head()"
   ]
  },
  {
   "cell_type": "markdown",
   "metadata": {},
   "source": [
    "Perform basic EDA operations of the dataframe"
   ]
  },
  {
   "cell_type": "code",
   "execution_count": 35,
   "metadata": {},
   "outputs": [
    {
     "name": "stdout",
     "output_type": "stream",
     "text": [
      "(45211, 17)\n"
     ]
    }
   ],
   "source": [
    "#display the shape of the data\n",
    "print(campaign_copy_df.shape)"
   ]
  },
  {
   "cell_type": "code",
   "execution_count": 36,
   "metadata": {},
   "outputs": [
    {
     "name": "stdout",
     "output_type": "stream",
     "text": [
      "age           int64\n",
      "job          object\n",
      "marital      object\n",
      "education    object\n",
      "default      object\n",
      "balance       int64\n",
      "housing      object\n",
      "loan         object\n",
      "contact      object\n",
      "day           int64\n",
      "month        object\n",
      "duration      int64\n",
      "campaign      int64\n",
      "pdays         int64\n",
      "previous      int64\n",
      "poutcome     object\n",
      "Target       object\n",
      "dtype: object\n"
     ]
    }
   ],
   "source": [
    "#data type of each attribute\n",
    "print(campaign_copy_df.dtypes)"
   ]
  },
  {
   "cell_type": "code",
   "execution_count": 37,
   "metadata": {},
   "outputs": [
    {
     "name": "stdout",
     "output_type": "stream",
     "text": [
      "<class 'pandas.core.frame.DataFrame'>\n",
      "RangeIndex: 45211 entries, 0 to 45210\n",
      "Data columns (total 17 columns):\n",
      " #   Column     Non-Null Count  Dtype \n",
      "---  ------     --------------  ----- \n",
      " 0   age        45211 non-null  int64 \n",
      " 1   job        45211 non-null  object\n",
      " 2   marital    45211 non-null  object\n",
      " 3   education  45211 non-null  object\n",
      " 4   default    45211 non-null  object\n",
      " 5   balance    45211 non-null  int64 \n",
      " 6   housing    45211 non-null  object\n",
      " 7   loan       45211 non-null  object\n",
      " 8   contact    45211 non-null  object\n",
      " 9   day        45211 non-null  int64 \n",
      " 10  month      45211 non-null  object\n",
      " 11  duration   45211 non-null  int64 \n",
      " 12  campaign   45211 non-null  int64 \n",
      " 13  pdays      45211 non-null  int64 \n",
      " 14  previous   45211 non-null  int64 \n",
      " 15  poutcome   45211 non-null  object\n",
      " 16  Target     45211 non-null  object\n",
      "dtypes: int64(7), object(10)\n",
      "memory usage: 5.9+ MB\n",
      "None\n"
     ]
    }
   ],
   "source": [
    "#display the information about the input file\n",
    "print(campaign_copy_df.info())"
   ]
  },
  {
   "cell_type": "markdown",
   "metadata": {},
   "source": [
    "Validate the presence of any missing values"
   ]
  },
  {
   "cell_type": "code",
   "execution_count": 38,
   "metadata": {},
   "outputs": [
    {
     "name": "stdout",
     "output_type": "stream",
     "text": [
      "age          0\n",
      "job          0\n",
      "marital      0\n",
      "education    0\n",
      "default      0\n",
      "balance      0\n",
      "housing      0\n",
      "loan         0\n",
      "contact      0\n",
      "day          0\n",
      "month        0\n",
      "duration     0\n",
      "campaign     0\n",
      "pdays        0\n",
      "previous     0\n",
      "poutcome     0\n",
      "Target       0\n",
      "dtype: int64\n",
      "age          False\n",
      "job          False\n",
      "marital      False\n",
      "education    False\n",
      "default      False\n",
      "balance      False\n",
      "housing      False\n",
      "loan         False\n",
      "contact      False\n",
      "day          False\n",
      "month        False\n",
      "duration     False\n",
      "campaign     False\n",
      "pdays        False\n",
      "previous     False\n",
      "poutcome     False\n",
      "Target       False\n",
      "dtype: bool\n",
      "\n",
      " \n",
      " INFERENCE : There are no null values present\n"
     ]
    }
   ],
   "source": [
    "print(campaign_copy_df.isna().sum())\n",
    "print(campaign_copy_df.isna().any())\n",
    "\n",
    "print('\\n \\n INFERENCE : There are no null values present')"
   ]
  },
  {
   "cell_type": "code",
   "execution_count": 39,
   "metadata": {},
   "outputs": [
    {
     "name": "stdout",
     "output_type": "stream",
     "text": [
      "Check whether any of the numeric columns has negative data:\n",
      "age             0\n",
      "balance      3766\n",
      "day             0\n",
      "duration        0\n",
      "campaign        0\n",
      "pdays       36954\n",
      "previous        0\n",
      "dtype: int64\n",
      "\n",
      "Distinct negative values corresponding to 'pdays'\n",
      "-1    36954\n",
      "Name: pdays, dtype: int64\n",
      "\n",
      "INFERENCE : (i)  3766 customers have negative balance.\n",
      "            (ii) 36954 customers have -1 pdays implying\n",
      "                the client was not contacted before.\n",
      "\n"
     ]
    }
   ],
   "source": [
    "#check whether each columns have the respective information as per the description\n",
    "\n",
    "#Numerical values check\n",
    "print('Check whether any of the numeric columns has negative data:')\n",
    "\n",
    "num_cols = campaign_copy_df.select_dtypes(include = ['int64'])\n",
    "\n",
    "num_count = (num_cols < 0).sum()\n",
    "print(num_count)\n",
    "\n",
    "print(\"\\nDistinct negative values corresponding to 'pdays'\")\n",
    "pdays_negative_values = campaign_copy_df['pdays'][campaign_copy_df['pdays'] < 0].value_counts()\n",
    "print(pdays_negative_values)\n",
    "\n",
    "print(\"\\nINFERENCE : (i)  3766 customers have negative balance.\\n\"\n",
    "      \"            (ii) 36954 customers have -1 pdays implying\\n\"\n",
    "      \"                the client was not contacted before.\\n\")"
   ]
  },
  {
   "cell_type": "markdown",
   "metadata": {},
   "source": [
    "Five point summary of the numerical attributes"
   ]
  },
  {
   "cell_type": "code",
   "execution_count": 40,
   "metadata": {},
   "outputs": [
    {
     "name": "stdout",
     "output_type": "stream",
     "text": [
      "\n",
      "Mean of age: 40.93621021432837\n",
      "Median of age: 39.0\n",
      "Std of age: 10.618762040975431\n",
      "INFERENCE: There is a slight diff between mean and median.\n",
      "This indicates presence of outliers and skewness.\n",
      "\n",
      "Mean of balance: 1362.2720576850766\n",
      "Median of balance: 448.0\n",
      "Std of balance: 3044.7658291686002\n",
      "INFERENCE: There is a huge diff between mean and median.\n",
      "The standard deviation is very high.\n",
      "This indicates presence of large number of outliers and right skewed as mean > median.\n",
      "\n",
      "Mean of day: 15.80641879188693\n",
      "Median of day: 16.0\n",
      "Std of day: 8.322476153044185\n",
      "INFERENCE: There is only a slight diff between mean and median.\n",
      "This could be a sign of minimal or no outliers.\n",
      "\n",
      "Mean of duration: 258.1630797814691\n",
      "Median of duration: 180.0\n",
      "Std of duration: 257.52781226517095\n",
      "INFERENCE: There is a huge diff between mean and median.\n",
      "The standard deviation is very high.\n",
      "This indicates presence of large number of outliers and right skewed as mean > median.\n",
      "\n",
      "Mean of campaign: 2.763840658246887\n",
      "Median of campaign: 2.0\n",
      "Std of campaign: 3.0980208832802205\n",
      "INFERENCE: There is a diff between mean and median.\n",
      "This indicates presence of outliers and right skewness.\n",
      "\n",
      "Mean of pdays: 40.19782796222158\n",
      "Median of pdays: -1.0\n",
      "Std of pdays: 100.1287459906047\n",
      "INFERENCE: There is a huge diff between mean and median.\n",
      "The standard deviation is very high.\n",
      "This indicates presence of large number of outliers and right skewed as mean > median.\n",
      "\n",
      "Mean of previous: 0.5803233726305546\n",
      "Median of previous: 0.0\n",
      "Std of previous: 2.3034410449314233\n",
      "INFERENCE: There is a significant diff between mean and median.\n",
      "The standard deviation is very high.\n",
      "This indicates presence of large number of outliers and right skewed as mean > median.\n"
     ]
    },
    {
     "data": {
      "text/html": [
       "<div>\n",
       "<style scoped>\n",
       "    .dataframe tbody tr th:only-of-type {\n",
       "        vertical-align: middle;\n",
       "    }\n",
       "\n",
       "    .dataframe tbody tr th {\n",
       "        vertical-align: top;\n",
       "    }\n",
       "\n",
       "    .dataframe thead th {\n",
       "        text-align: right;\n",
       "    }\n",
       "</style>\n",
       "<table border=\"1\" class=\"dataframe\">\n",
       "  <thead>\n",
       "    <tr style=\"text-align: right;\">\n",
       "      <th></th>\n",
       "      <th>age</th>\n",
       "      <th>balance</th>\n",
       "      <th>day</th>\n",
       "      <th>duration</th>\n",
       "      <th>campaign</th>\n",
       "      <th>pdays</th>\n",
       "      <th>previous</th>\n",
       "    </tr>\n",
       "  </thead>\n",
       "  <tbody>\n",
       "    <tr>\n",
       "      <th>count</th>\n",
       "      <td>45211.000000</td>\n",
       "      <td>45211.000000</td>\n",
       "      <td>45211.000000</td>\n",
       "      <td>45211.000000</td>\n",
       "      <td>45211.000000</td>\n",
       "      <td>45211.000000</td>\n",
       "      <td>45211.000000</td>\n",
       "    </tr>\n",
       "    <tr>\n",
       "      <th>mean</th>\n",
       "      <td>40.936210</td>\n",
       "      <td>1362.272058</td>\n",
       "      <td>15.806419</td>\n",
       "      <td>258.163080</td>\n",
       "      <td>2.763841</td>\n",
       "      <td>40.197828</td>\n",
       "      <td>0.580323</td>\n",
       "    </tr>\n",
       "    <tr>\n",
       "      <th>std</th>\n",
       "      <td>10.618762</td>\n",
       "      <td>3044.765829</td>\n",
       "      <td>8.322476</td>\n",
       "      <td>257.527812</td>\n",
       "      <td>3.098021</td>\n",
       "      <td>100.128746</td>\n",
       "      <td>2.303441</td>\n",
       "    </tr>\n",
       "    <tr>\n",
       "      <th>min</th>\n",
       "      <td>18.000000</td>\n",
       "      <td>-8019.000000</td>\n",
       "      <td>1.000000</td>\n",
       "      <td>0.000000</td>\n",
       "      <td>1.000000</td>\n",
       "      <td>-1.000000</td>\n",
       "      <td>0.000000</td>\n",
       "    </tr>\n",
       "    <tr>\n",
       "      <th>25%</th>\n",
       "      <td>33.000000</td>\n",
       "      <td>72.000000</td>\n",
       "      <td>8.000000</td>\n",
       "      <td>103.000000</td>\n",
       "      <td>1.000000</td>\n",
       "      <td>-1.000000</td>\n",
       "      <td>0.000000</td>\n",
       "    </tr>\n",
       "    <tr>\n",
       "      <th>50%</th>\n",
       "      <td>39.000000</td>\n",
       "      <td>448.000000</td>\n",
       "      <td>16.000000</td>\n",
       "      <td>180.000000</td>\n",
       "      <td>2.000000</td>\n",
       "      <td>-1.000000</td>\n",
       "      <td>0.000000</td>\n",
       "    </tr>\n",
       "    <tr>\n",
       "      <th>75%</th>\n",
       "      <td>48.000000</td>\n",
       "      <td>1428.000000</td>\n",
       "      <td>21.000000</td>\n",
       "      <td>319.000000</td>\n",
       "      <td>3.000000</td>\n",
       "      <td>-1.000000</td>\n",
       "      <td>0.000000</td>\n",
       "    </tr>\n",
       "    <tr>\n",
       "      <th>max</th>\n",
       "      <td>95.000000</td>\n",
       "      <td>102127.000000</td>\n",
       "      <td>31.000000</td>\n",
       "      <td>4918.000000</td>\n",
       "      <td>63.000000</td>\n",
       "      <td>871.000000</td>\n",
       "      <td>275.000000</td>\n",
       "    </tr>\n",
       "  </tbody>\n",
       "</table>\n",
       "</div>"
      ],
      "text/plain": [
       "                age        balance           day      duration      campaign  \\\n",
       "count  45211.000000   45211.000000  45211.000000  45211.000000  45211.000000   \n",
       "mean      40.936210    1362.272058     15.806419    258.163080      2.763841   \n",
       "std       10.618762    3044.765829      8.322476    257.527812      3.098021   \n",
       "min       18.000000   -8019.000000      1.000000      0.000000      1.000000   \n",
       "25%       33.000000      72.000000      8.000000    103.000000      1.000000   \n",
       "50%       39.000000     448.000000     16.000000    180.000000      2.000000   \n",
       "75%       48.000000    1428.000000     21.000000    319.000000      3.000000   \n",
       "max       95.000000  102127.000000     31.000000   4918.000000     63.000000   \n",
       "\n",
       "              pdays      previous  \n",
       "count  45211.000000  45211.000000  \n",
       "mean      40.197828      0.580323  \n",
       "std      100.128746      2.303441  \n",
       "min       -1.000000      0.000000  \n",
       "25%       -1.000000      0.000000  \n",
       "50%       -1.000000      0.000000  \n",
       "75%       -1.000000      0.000000  \n",
       "max      871.000000    275.000000  "
      ]
     },
     "execution_count": 40,
     "metadata": {},
     "output_type": "execute_result"
    }
   ],
   "source": [
    "#five point summary calculation\n",
    "inference = {'age': 'There is a slight diff between mean and median.\\nThis indicates presence of outliers and skewness.',\n",
    "             'balance': 'There is a huge diff between mean and median.\\nThe standard deviation is very high.\\nThis indicates presence of large number of outliers and right skewed as mean > median.',\n",
    "             'day': 'There is only a slight diff between mean and median.\\nThis could be a sign of minimal or no outliers.',\n",
    "             'duration': 'There is a huge diff between mean and median.\\nThe standard deviation is very high.\\nThis indicates presence of large number of outliers and right skewed as mean > median.',\n",
    "             'campaign': 'There is a diff between mean and median.\\nThis indicates presence of outliers and right skewness.',\n",
    "             'pdays': 'There is a huge diff between mean and median.\\nThe standard deviation is very high.\\nThis indicates presence of large number of outliers and right skewed as mean > median.',\n",
    "             'previous': 'There is a significant diff between mean and median.\\nThe standard deviation is very high.\\nThis indicates presence of large number of outliers and right skewed as mean > median.'}\n",
    "describe = campaign_copy_df.describe()\n",
    "for i in describe:\n",
    "    print('\\nMean of {}:'.format(i), describe[i]['mean'])\n",
    "    print('Median of {}:'.format(i), campaign_copy_df[i].median())        \n",
    "    print('Std of {}:'.format(i),describe[i]['std'])\n",
    "    print('INFERENCE:', inference[i])\n",
    "\n",
    "campaign_copy_df.describe()"
   ]
  },
  {
   "cell_type": "markdown",
   "metadata": {},
   "source": [
    "Check the presence of outliers"
   ]
  },
  {
   "cell_type": "code",
   "execution_count": 41,
   "metadata": {},
   "outputs": [
    {
     "name": "stdout",
     "output_type": "stream",
     "text": [
      "\n",
      " age\n",
      "Number of left outliers present: 0\n",
      "Number of right outliers present: 487\n",
      "measure of skewness: 0.6848179257252598\n",
      "Inference:  The data is slightly right skewed\n",
      "\n",
      " balance\n",
      "Number of left outliers present: 17\n",
      "Number of right outliers present: 4712\n",
      "measure of skewness: 8.360308326166326\n",
      "Inference:  The data is right skewed\n",
      "\n",
      " day\n",
      "Number of left outliers present: 0\n",
      "Number of right outliers present: 0\n",
      "measure of skewness: 0.09307901402122411\n",
      "Inference:  The data is uniformly distributed\n",
      "\n",
      " duration\n",
      "Number of left outliers present: 0\n",
      "Number of right outliers present: 3235\n",
      "measure of skewness: 3.144318099423456\n",
      "Inference:  The data is right skewed\n",
      "\n",
      " campaign\n",
      "Number of left outliers present: 0\n",
      "Number of right outliers present: 3064\n",
      "measure of skewness: 4.898650166179674\n",
      "Inference:  The data is right skewed\n",
      "\n",
      " pdays\n",
      "Number of left outliers present: 0\n",
      "Number of right outliers present: 8257\n",
      "measure of skewness: 2.6157154736563477\n",
      "Inference:  The data is right skewed\n",
      "\n",
      " previous\n",
      "Number of left outliers present: 0\n",
      "Number of right outliers present: 8257\n",
      "measure of skewness: 41.84645447266292\n",
      "Inference:  The data is right skewed\n"
     ]
    }
   ],
   "source": [
    "#outliers calculation\n",
    "Q1 = campaign_copy_df.quantile(0.25)\n",
    "Q3 = campaign_copy_df.quantile(0.75)\n",
    "IQR = Q3-Q1\n",
    "lower_bound = Q1 - (1.5*IQR)\n",
    "upper_bound = Q3 + (1.5*IQR)\n",
    "\n",
    "inference = {'age':'The data is slightly right skewed',\n",
    "             'balance': 'The data is right skewed',\n",
    "             'day':'The data is uniformly distributed',\n",
    "             'duration': 'The data is right skewed',\n",
    "             'campaign' : 'The data is right skewed',\n",
    "             'pdays':'The data is right skewed',\n",
    "             'previous':'The data is right skewed'\n",
    "            }\n",
    "for i in describe:\n",
    "    print('\\n',i)    \n",
    "    left_outlier_count = (campaign_copy_df[i] < lower_bound[i]).sum()\n",
    "    right_outlier_count = (campaign_copy_df[i] > upper_bound[i]).sum()\n",
    "    print('Number of left outliers present:', left_outlier_count)\n",
    "    print('Number of right outliers present:', right_outlier_count)\n",
    "    print('measure of skewness:', campaign_copy_df[i].skew())    \n",
    "    print('Inference: ', inference[i])"
   ]
  },
  {
   "cell_type": "code",
   "execution_count": 42,
   "metadata": {},
   "outputs": [
    {
     "data": {
      "image/png": "[encoded data removed]",
      "text/plain": [
       "<Figure size 1152x1080 with 7 Axes>"
      ]
     },
     "metadata": {
      "needs_background": "light"
     },
     "output_type": "display_data"
    }
   ],
   "source": [
    "fig, ax = plt.subplots(nrows = 3,ncols=3,figsize=(16,15))\n",
    "sns.violinplot(campaign_copy_df['age'], campaign_copy_df['Target'],ax = ax[0][0])\n",
    "sns.violinplot(campaign_copy_df['balance'], campaign_copy_df['Target'],ax = ax[0][1])\n",
    "sns.violinplot(campaign_copy_df['day'], campaign_copy_df['Target'],ax = ax[0][2])\n",
    "sns.violinplot(campaign_copy_df['duration'], campaign_copy_df['Target'],ax = ax[1][0])\n",
    "sns.violinplot(campaign_copy_df['campaign'], campaign_copy_df['Target'],ax = ax[1][1])\n",
    "sns.violinplot(campaign_copy_df['pdays'], campaign_copy_df['Target'],ax = ax[1][2])\n",
    "sns.violinplot(campaign_copy_df['previous'], campaign_copy_df['Target'],ax = ax[2][0])                                                                            \n",
    "fig.delaxes(ax[2,1])\n",
    "fig.delaxes(ax[2,2])"
   ]
  },
  {
   "cell_type": "markdown",
   "metadata": {},
   "source": [
    "Inference from violin graph:\n",
    "\n",
    "Strong predictors: \"pdays\", \"duration\" and \"previous\".\n",
    "However \"duration\" will not be included as part of predictive modelling.\n",
    "\n",
    "Weak predictors: \"Age\" and \"day\""
   ]
  },
  {
   "cell_type": "code",
   "execution_count": 43,
   "metadata": {},
   "outputs": [
    {
     "data": {
      "text/plain": [
       "age          381\n",
       "balance      745\n",
       "day            0\n",
       "duration     963\n",
       "campaign     840\n",
       "pdays       1723\n",
       "previous     582\n",
       "dtype: int64"
      ]
     },
     "execution_count": 43,
     "metadata": {},
     "output_type": "execute_result"
    }
   ],
   "source": [
    "#further analysis of outliers\n",
    "#find zscore of the numerical attributes\n",
    "cols = num_cols.columns\n",
    "zscore_num = zscore(num_cols)\n",
    "zscore_num_df = pd.DataFrame(zscore_num, columns = cols)\n",
    "\n",
    "#check how many number of records are 3 std away from mean\n",
    "((zscore_num_df < -3) | (zscore_num_df > 3)).sum()"
   ]
  },
  {
   "cell_type": "markdown",
   "metadata": {},
   "source": [
    "Inference: There are significant number of records which fall away from the 3 standard deviations.\n",
    "\n",
    "Correlation analysis of continuous independent variables"
   ]
  },
  {
   "cell_type": "code",
   "execution_count": 44,
   "metadata": {},
   "outputs": [
    {
     "data": {
      "text/html": [
       "<div>\n",
       "<style scoped>\n",
       "    .dataframe tbody tr th:only-of-type {\n",
       "        vertical-align: middle;\n",
       "    }\n",
       "\n",
       "    .dataframe tbody tr th {\n",
       "        vertical-align: top;\n",
       "    }\n",
       "\n",
       "    .dataframe thead th {\n",
       "        text-align: right;\n",
       "    }\n",
       "</style>\n",
       "<table border=\"1\" class=\"dataframe\">\n",
       "  <thead>\n",
       "    <tr style=\"text-align: right;\">\n",
       "      <th></th>\n",
       "      <th>age</th>\n",
       "      <th>balance</th>\n",
       "      <th>day</th>\n",
       "      <th>duration</th>\n",
       "      <th>campaign</th>\n",
       "      <th>pdays</th>\n",
       "      <th>previous</th>\n",
       "    </tr>\n",
       "  </thead>\n",
       "  <tbody>\n",
       "    <tr>\n",
       "      <th>age</th>\n",
       "      <td>1.000000</td>\n",
       "      <td>0.097783</td>\n",
       "      <td>-0.009120</td>\n",
       "      <td>-0.004648</td>\n",
       "      <td>0.004760</td>\n",
       "      <td>-0.023758</td>\n",
       "      <td>0.001288</td>\n",
       "    </tr>\n",
       "    <tr>\n",
       "      <th>balance</th>\n",
       "      <td>0.097783</td>\n",
       "      <td>1.000000</td>\n",
       "      <td>0.004503</td>\n",
       "      <td>0.021560</td>\n",
       "      <td>-0.014578</td>\n",
       "      <td>0.003435</td>\n",
       "      <td>0.016674</td>\n",
       "    </tr>\n",
       "    <tr>\n",
       "      <th>day</th>\n",
       "      <td>-0.009120</td>\n",
       "      <td>0.004503</td>\n",
       "      <td>1.000000</td>\n",
       "      <td>-0.030206</td>\n",
       "      <td>0.162490</td>\n",
       "      <td>-0.093044</td>\n",
       "      <td>-0.051710</td>\n",
       "    </tr>\n",
       "    <tr>\n",
       "      <th>duration</th>\n",
       "      <td>-0.004648</td>\n",
       "      <td>0.021560</td>\n",
       "      <td>-0.030206</td>\n",
       "      <td>1.000000</td>\n",
       "      <td>-0.084570</td>\n",
       "      <td>-0.001565</td>\n",
       "      <td>0.001203</td>\n",
       "    </tr>\n",
       "    <tr>\n",
       "      <th>campaign</th>\n",
       "      <td>0.004760</td>\n",
       "      <td>-0.014578</td>\n",
       "      <td>0.162490</td>\n",
       "      <td>-0.084570</td>\n",
       "      <td>1.000000</td>\n",
       "      <td>-0.088628</td>\n",
       "      <td>-0.032855</td>\n",
       "    </tr>\n",
       "    <tr>\n",
       "      <th>pdays</th>\n",
       "      <td>-0.023758</td>\n",
       "      <td>0.003435</td>\n",
       "      <td>-0.093044</td>\n",
       "      <td>-0.001565</td>\n",
       "      <td>-0.088628</td>\n",
       "      <td>1.000000</td>\n",
       "      <td>0.454820</td>\n",
       "    </tr>\n",
       "    <tr>\n",
       "      <th>previous</th>\n",
       "      <td>0.001288</td>\n",
       "      <td>0.016674</td>\n",
       "      <td>-0.051710</td>\n",
       "      <td>0.001203</td>\n",
       "      <td>-0.032855</td>\n",
       "      <td>0.454820</td>\n",
       "      <td>1.000000</td>\n",
       "    </tr>\n",
       "  </tbody>\n",
       "</table>\n",
       "</div>"
      ],
      "text/plain": [
       "               age   balance       day  duration  campaign     pdays  previous\n",
       "age       1.000000  0.097783 -0.009120 -0.004648  0.004760 -0.023758  0.001288\n",
       "balance   0.097783  1.000000  0.004503  0.021560 -0.014578  0.003435  0.016674\n",
       "day      -0.009120  0.004503  1.000000 -0.030206  0.162490 -0.093044 -0.051710\n",
       "duration -0.004648  0.021560 -0.030206  1.000000 -0.084570 -0.001565  0.001203\n",
       "campaign  0.004760 -0.014578  0.162490 -0.084570  1.000000 -0.088628 -0.032855\n",
       "pdays    -0.023758  0.003435 -0.093044 -0.001565 -0.088628  1.000000  0.454820\n",
       "previous  0.001288  0.016674 -0.051710  0.001203 -0.032855  0.454820  1.000000"
      ]
     },
     "execution_count": 44,
     "metadata": {},
     "output_type": "execute_result"
    }
   ],
   "source": [
    "#pearson correlation to check the linear relation\n",
    "campaign_copy_df.corr()"
   ]
  },
  {
   "cell_type": "code",
   "execution_count": 45,
   "metadata": {},
   "outputs": [
    {
     "data": {
      "text/plain": [
       "(7.5, -0.5)"
      ]
     },
     "execution_count": 45,
     "metadata": {},
     "output_type": "execute_result"
    },
    {
     "data": {
      "image/png": "[encoded data removed]",
      "text/plain": [
       "<Figure size 648x504 with 2 Axes>"
      ]
     },
     "metadata": {
      "needs_background": "light"
     },
     "output_type": "display_data"
    }
   ],
   "source": [
    "fig, ax = plt.subplots(figsize=(9,7))\n",
    "ax = sns.heatmap(campaign_copy_df.corr(), ax = ax,annot=True, linewidths=1,fmt='.2f',cmap='magma')\n",
    "bottom , top = ax.get_ylim()\n",
    "ax.set_ylim(bottom + 0.5, top - 0.5)"
   ]
  },
  {
   "cell_type": "markdown",
   "metadata": {},
   "source": [
    "Inferences from pearson correlation and Pairplot for continuous variables:\n",
    "\n",
    "Weak correlations:\n",
    "(i) There exists a very loose correlation between age and balance.\n",
    "(ii) A similar trend could be noticed between campaign and day.\n",
    "\n",
    "moderate correlations:\n",
    "(i) pdays and previous correlate to one another moderately.\n",
    "\n",
    "Strong correlations:\n",
    "There are no strong corrleations between the continuous variables.\n",
    "\n",
    "Spearman correlation check incase if the variables are not from same normal distribution"
   ]
  },
  {
   "cell_type": "code",
   "execution_count": 46,
   "metadata": {},
   "outputs": [
    {
     "data": {
      "text/html": [
       "<div>\n",
       "<style scoped>\n",
       "    .dataframe tbody tr th:only-of-type {\n",
       "        vertical-align: middle;\n",
       "    }\n",
       "\n",
       "    .dataframe tbody tr th {\n",
       "        vertical-align: top;\n",
       "    }\n",
       "\n",
       "    .dataframe thead th {\n",
       "        text-align: right;\n",
       "    }\n",
       "</style>\n",
       "<table border=\"1\" class=\"dataframe\">\n",
       "  <thead>\n",
       "    <tr style=\"text-align: right;\">\n",
       "      <th></th>\n",
       "      <th>age</th>\n",
       "      <th>balance</th>\n",
       "      <th>day</th>\n",
       "      <th>duration</th>\n",
       "      <th>campaign</th>\n",
       "      <th>pdays</th>\n",
       "      <th>previous</th>\n",
       "    </tr>\n",
       "  </thead>\n",
       "  <tbody>\n",
       "    <tr>\n",
       "      <th>age</th>\n",
       "      <td>1.000000</td>\n",
       "      <td>0.096380</td>\n",
       "      <td>-0.008948</td>\n",
       "      <td>-0.033257</td>\n",
       "      <td>0.037136</td>\n",
       "      <td>-0.017468</td>\n",
       "      <td>-0.011900</td>\n",
       "    </tr>\n",
       "    <tr>\n",
       "      <th>balance</th>\n",
       "      <td>0.096380</td>\n",
       "      <td>1.000000</td>\n",
       "      <td>0.001329</td>\n",
       "      <td>0.042651</td>\n",
       "      <td>-0.030959</td>\n",
       "      <td>0.069676</td>\n",
       "      <td>0.079536</td>\n",
       "    </tr>\n",
       "    <tr>\n",
       "      <th>day</th>\n",
       "      <td>-0.008948</td>\n",
       "      <td>0.001329</td>\n",
       "      <td>1.000000</td>\n",
       "      <td>-0.058142</td>\n",
       "      <td>0.139581</td>\n",
       "      <td>-0.092226</td>\n",
       "      <td>-0.087780</td>\n",
       "    </tr>\n",
       "    <tr>\n",
       "      <th>duration</th>\n",
       "      <td>-0.033257</td>\n",
       "      <td>0.042651</td>\n",
       "      <td>-0.058142</td>\n",
       "      <td>1.000000</td>\n",
       "      <td>-0.107962</td>\n",
       "      <td>0.028698</td>\n",
       "      <td>0.031175</td>\n",
       "    </tr>\n",
       "    <tr>\n",
       "      <th>campaign</th>\n",
       "      <td>0.037136</td>\n",
       "      <td>-0.030959</td>\n",
       "      <td>0.139581</td>\n",
       "      <td>-0.107962</td>\n",
       "      <td>1.000000</td>\n",
       "      <td>-0.112284</td>\n",
       "      <td>-0.108448</td>\n",
       "    </tr>\n",
       "    <tr>\n",
       "      <th>pdays</th>\n",
       "      <td>-0.017468</td>\n",
       "      <td>0.069676</td>\n",
       "      <td>-0.092226</td>\n",
       "      <td>0.028698</td>\n",
       "      <td>-0.112284</td>\n",
       "      <td>1.000000</td>\n",
       "      <td>0.985645</td>\n",
       "    </tr>\n",
       "    <tr>\n",
       "      <th>previous</th>\n",
       "      <td>-0.011900</td>\n",
       "      <td>0.079536</td>\n",
       "      <td>-0.087780</td>\n",
       "      <td>0.031175</td>\n",
       "      <td>-0.108448</td>\n",
       "      <td>0.985645</td>\n",
       "      <td>1.000000</td>\n",
       "    </tr>\n",
       "  </tbody>\n",
       "</table>\n",
       "</div>"
      ],
      "text/plain": [
       "               age   balance       day  duration  campaign     pdays  previous\n",
       "age       1.000000  0.096380 -0.008948 -0.033257  0.037136 -0.017468 -0.011900\n",
       "balance   0.096380  1.000000  0.001329  0.042651 -0.030959  0.069676  0.079536\n",
       "day      -0.008948  0.001329  1.000000 -0.058142  0.139581 -0.092226 -0.087780\n",
       "duration -0.033257  0.042651 -0.058142  1.000000 -0.107962  0.028698  0.031175\n",
       "campaign  0.037136 -0.030959  0.139581 -0.107962  1.000000 -0.112284 -0.108448\n",
       "pdays    -0.017468  0.069676 -0.092226  0.028698 -0.112284  1.000000  0.985645\n",
       "previous -0.011900  0.079536 -0.087780  0.031175 -0.108448  0.985645  1.000000"
      ]
     },
     "execution_count": 46,
     "metadata": {},
     "output_type": "execute_result"
    }
   ],
   "source": [
    "campaign_copy_df.corr(method = 'spearman')"
   ]
  },
  {
   "cell_type": "code",
   "execution_count": 47,
   "metadata": {},
   "outputs": [
    {
     "data": {
      "text/plain": [
       "(7.5, -0.5)"
      ]
     },
     "execution_count": 47,
     "metadata": {},
     "output_type": "execute_result"
    },
    {
     "data": {
      "image/png": "[encoded data removed]",
      "text/plain": [
       "<Figure size 648x504 with 2 Axes>"
      ]
     },
     "metadata": {
      "needs_background": "light"
     },
     "output_type": "display_data"
    }
   ],
   "source": [
    "fig, ax = plt.subplots(figsize=(9,7))\n",
    "ax = sns.heatmap(campaign_copy_df.corr(method='spearman'), ax = ax,annot=True, linewidths=1,fmt='.2f',cmap='magma')\n",
    "bottom , top = ax.get_ylim()\n",
    "ax.set_ylim(bottom + 0.5, top - 0.5)"
   ]
  },
  {
   "cell_type": "markdown",
   "metadata": {},
   "source": [
    "Inference from spearman correlation:\n",
    "A very strong relation can be noticed between pdays and previous. So the attribute 'previous' could be dropped.\n",
    "\n",
    "Correlation and Statistical analysis of continuous independent variables and the binomial target variable.\n",
    "\n",
    "Apply one way anova or ttest to find the relation between continous attributes and the Target."
   ]
  },
  {
   "cell_type": "code",
   "execution_count": 48,
   "metadata": {},
   "outputs": [
    {
     "data": {
      "text/html": [
       "<div>\n",
       "<style scoped>\n",
       "    .dataframe tbody tr th:only-of-type {\n",
       "        vertical-align: middle;\n",
       "    }\n",
       "\n",
       "    .dataframe tbody tr th {\n",
       "        vertical-align: top;\n",
       "    }\n",
       "\n",
       "    .dataframe thead th {\n",
       "        text-align: right;\n",
       "    }\n",
       "</style>\n",
       "<table border=\"1\" class=\"dataframe\">\n",
       "  <thead>\n",
       "    <tr style=\"text-align: right;\">\n",
       "      <th></th>\n",
       "      <th>Anova-pvalue</th>\n",
       "      <th>Fvalue</th>\n",
       "    </tr>\n",
       "  </thead>\n",
       "  <tbody>\n",
       "    <tr>\n",
       "      <th>age</th>\n",
       "      <td>8.82564e-08</td>\n",
       "      <td>28.6252</td>\n",
       "    </tr>\n",
       "    <tr>\n",
       "      <th>balance</th>\n",
       "      <td>2.52111e-29</td>\n",
       "      <td>126.572</td>\n",
       "    </tr>\n",
       "    <tr>\n",
       "      <th>day</th>\n",
       "      <td>1.65388e-09</td>\n",
       "      <td>36.359</td>\n",
       "    </tr>\n",
       "    <tr>\n",
       "      <th>duration</th>\n",
       "      <td>0</td>\n",
       "      <td>8333.76</td>\n",
       "    </tr>\n",
       "    <tr>\n",
       "      <th>campaign</th>\n",
       "      <td>1.01235e-54</td>\n",
       "      <td>243.358</td>\n",
       "    </tr>\n",
       "    <tr>\n",
       "      <th>pdays</th>\n",
       "      <td>3.79055e-108</td>\n",
       "      <td>490.697</td>\n",
       "    </tr>\n",
       "    <tr>\n",
       "      <th>previous</th>\n",
       "      <td>7.80183e-88</td>\n",
       "      <td>396.444</td>\n",
       "    </tr>\n",
       "  </tbody>\n",
       "</table>\n",
       "</div>"
      ],
      "text/plain": [
       "          Anova-pvalue   Fvalue\n",
       "age        8.82564e-08  28.6252\n",
       "balance    2.52111e-29  126.572\n",
       "day        1.65388e-09   36.359\n",
       "duration             0  8333.76\n",
       "campaign   1.01235e-54  243.358\n",
       "pdays     3.79055e-108  490.697\n",
       "previous   7.80183e-88  396.444"
      ]
     },
     "execution_count": 48,
     "metadata": {},
     "output_type": "execute_result"
    }
   ],
   "source": [
    "anova_result = pd.DataFrame([],columns=['Anova-pvalue', 'Fvalue'])\n",
    "\n",
    "#applying anova test for continuous variable and target\n",
    "for i in num_cols:\n",
    "    model = ols(i+' ~ C(Target)', campaign_copy_df).fit()\n",
    "    anova_result.loc[i,'Anova-pvalue'] = sm.stats.anova_lm(model,typ=1).iloc[0]['PR(>F)']\n",
    "    anova_result.loc[i,'Fvalue'] = sm.stats.anova_lm(model,typ=1).iloc[0]['F']    \n",
    "    \n",
    "anova_result"
   ]
  },
  {
   "cell_type": "markdown",
   "metadata": {},
   "source": [
    "Inference:\n",
    "\n",
    "(1) The duration and Target are dependent.\n",
    "\n",
    "Since the p value is zero which implies the variance between the means are very high when compare to the variance within the each group.\n",
    "\n",
    "Therefore it can be concluded that the a clear boundary could be drawn on duration based on Target.\n",
    "\n",
    "(2) pdays and Target are somewhat related as the p-value is significantly small.\n",
    "\n",
    "(3) Age and Target are not dependent as the p value is not very small.\n",
    "\n",
    "(4) day and Target are not dependent as the p value is not very small.\n",
    "\n",
    "Spearman correlation for the continuous and discrete data"
   ]
  },
  {
   "cell_type": "code",
   "execution_count": 49,
   "metadata": {},
   "outputs": [
    {
     "data": {
      "text/html": [
       "<div>\n",
       "<style scoped>\n",
       "    .dataframe tbody tr th:only-of-type {\n",
       "        vertical-align: middle;\n",
       "    }\n",
       "\n",
       "    .dataframe tbody tr th {\n",
       "        vertical-align: top;\n",
       "    }\n",
       "\n",
       "    .dataframe thead th {\n",
       "        text-align: right;\n",
       "    }\n",
       "</style>\n",
       "<table border=\"1\" class=\"dataframe\">\n",
       "  <thead>\n",
       "    <tr style=\"text-align: right;\">\n",
       "      <th></th>\n",
       "      <th>spearman-correlation</th>\n",
       "      <th>pvalue</th>\n",
       "    </tr>\n",
       "  </thead>\n",
       "  <tbody>\n",
       "    <tr>\n",
       "      <th>age</th>\n",
       "      <td>-0.00874999</td>\n",
       "      <td>0.0628172</td>\n",
       "    </tr>\n",
       "    <tr>\n",
       "      <th>balance</th>\n",
       "      <td>0.100295</td>\n",
       "      <td>2.09556e-101</td>\n",
       "    </tr>\n",
       "    <tr>\n",
       "      <th>day</th>\n",
       "      <td>-0.0295484</td>\n",
       "      <td>3.29904e-10</td>\n",
       "    </tr>\n",
       "    <tr>\n",
       "      <th>duration</th>\n",
       "      <td>0.342469</td>\n",
       "      <td>0</td>\n",
       "    </tr>\n",
       "    <tr>\n",
       "      <th>campaign</th>\n",
       "      <td>-0.0840536</td>\n",
       "      <td>1.10937e-71</td>\n",
       "    </tr>\n",
       "    <tr>\n",
       "      <th>pdays</th>\n",
       "      <td>0.154055</td>\n",
       "      <td>3.9001e-238</td>\n",
       "    </tr>\n",
       "    <tr>\n",
       "      <th>previous</th>\n",
       "      <td>0.169124</td>\n",
       "      <td>2.85223e-287</td>\n",
       "    </tr>\n",
       "  </tbody>\n",
       "</table>\n",
       "</div>"
      ],
      "text/plain": [
       "         spearman-correlation        pvalue\n",
       "age               -0.00874999     0.0628172\n",
       "balance              0.100295  2.09556e-101\n",
       "day                -0.0295484   3.29904e-10\n",
       "duration             0.342469             0\n",
       "campaign           -0.0840536   1.10937e-71\n",
       "pdays                0.154055   3.9001e-238\n",
       "previous             0.169124  2.85223e-287"
      ]
     },
     "execution_count": 49,
     "metadata": {},
     "output_type": "execute_result"
    }
   ],
   "source": [
    "spearman_result = pd.DataFrame([],columns=['spearman-correlation', 'pvalue'])\n",
    "\n",
    "#impute the binomial target with '0' and '1'\n",
    "labelencoder = LabelEncoder()\n",
    "Target = pd.DataFrame(labelencoder.fit_transform(campaign_copy_df['Target']))\n",
    "\n",
    "#applying spearman test for continuous variable and target\n",
    "for i in num_cols:    \n",
    "    continuous_df = pd.DataFrame(campaign_copy_df[i])\n",
    "    spearman_result.loc[i,'spearman-correlation'] = spearmanr(continuous_df.join(Target)).correlation\n",
    "    spearman_result.loc[i,'pvalue'] = spearmanr(continuous_df.join(Target)).pvalue\n",
    "    \n",
    "spearman_result"
   ]
  },
  {
   "cell_type": "markdown",
   "metadata": {},
   "source": [
    "Inference: Duration and Target has some good relation.\n",
    "\n",
    "variable 'age' has week dependency with 'Target'. The attribute 'age' can be dropped."
   ]
  },
  {
   "cell_type": "code",
   "execution_count": 50,
   "metadata": {},
   "outputs": [
    {
     "data": {
      "text/html": [
       "<div>\n",
       "<style scoped>\n",
       "    .dataframe tbody tr th:only-of-type {\n",
       "        vertical-align: middle;\n",
       "    }\n",
       "\n",
       "    .dataframe tbody tr th {\n",
       "        vertical-align: top;\n",
       "    }\n",
       "\n",
       "    .dataframe thead th {\n",
       "        text-align: right;\n",
       "    }\n",
       "</style>\n",
       "<table border=\"1\" class=\"dataframe\">\n",
       "  <thead>\n",
       "    <tr style=\"text-align: right;\">\n",
       "      <th></th>\n",
       "      <th>job</th>\n",
       "      <th>marital</th>\n",
       "      <th>education</th>\n",
       "      <th>default</th>\n",
       "      <th>housing</th>\n",
       "      <th>loan</th>\n",
       "      <th>contact</th>\n",
       "      <th>month</th>\n",
       "      <th>poutcome</th>\n",
       "      <th>Target</th>\n",
       "    </tr>\n",
       "  </thead>\n",
       "  <tbody>\n",
       "    <tr>\n",
       "      <th>age</th>\n",
       "      <td>0.000000e+00</td>\n",
       "      <td>0.000000e+00</td>\n",
       "      <td>0.000000e+00</td>\n",
       "      <td>1.436177e-04</td>\n",
       "      <td>0.000000e+00</td>\n",
       "      <td>8.719799e-04</td>\n",
       "      <td>1.597830e-290</td>\n",
       "      <td>3.059617e-245</td>\n",
       "      <td>4.840702e-17</td>\n",
       "      <td>8.825644e-08</td>\n",
       "    </tr>\n",
       "    <tr>\n",
       "      <th>balance</th>\n",
       "      <td>5.709430e-94</td>\n",
       "      <td>1.605587e-08</td>\n",
       "      <td>2.849538e-75</td>\n",
       "      <td>8.246278e-46</td>\n",
       "      <td>1.582632e-48</td>\n",
       "      <td>3.544641e-72</td>\n",
       "      <td>1.244231e-24</td>\n",
       "      <td>2.002290e-231</td>\n",
       "      <td>3.088104e-15</td>\n",
       "      <td>2.521114e-29</td>\n",
       "    </tr>\n",
       "    <tr>\n",
       "      <th>day</th>\n",
       "      <td>5.489892e-17</td>\n",
       "      <td>2.597196e-01</td>\n",
       "      <td>1.089429e-06</td>\n",
       "      <td>4.509349e-02</td>\n",
       "      <td>2.669905e-09</td>\n",
       "      <td>1.562178e-02</td>\n",
       "      <td>2.050227e-15</td>\n",
       "      <td>0.000000e+00</td>\n",
       "      <td>2.009226e-73</td>\n",
       "      <td>1.653880e-09</td>\n",
       "    </tr>\n",
       "    <tr>\n",
       "      <th>duration</th>\n",
       "      <td>1.232447e-11</td>\n",
       "      <td>5.697950e-06</td>\n",
       "      <td>8.837767e-01</td>\n",
       "      <td>3.310185e-02</td>\n",
       "      <td>2.805147e-01</td>\n",
       "      <td>8.310901e-03</td>\n",
       "      <td>2.239459e-09</td>\n",
       "      <td>1.079679e-38</td>\n",
       "      <td>4.250760e-20</td>\n",
       "      <td>0.000000e+00</td>\n",
       "    </tr>\n",
       "    <tr>\n",
       "      <th>campaign</th>\n",
       "      <td>6.253473e-24</td>\n",
       "      <td>2.013545e-10</td>\n",
       "      <td>1.824042e-04</td>\n",
       "      <td>3.476985e-04</td>\n",
       "      <td>5.212410e-07</td>\n",
       "      <td>3.383802e-02</td>\n",
       "      <td>3.199084e-31</td>\n",
       "      <td>0.000000e+00</td>\n",
       "      <td>2.888451e-124</td>\n",
       "      <td>1.012347e-54</td>\n",
       "    </tr>\n",
       "    <tr>\n",
       "      <th>pdays</th>\n",
       "      <td>1.107741e-27</td>\n",
       "      <td>2.817855e-09</td>\n",
       "      <td>8.522341e-06</td>\n",
       "      <td>1.820913e-10</td>\n",
       "      <td>8.305619e-155</td>\n",
       "      <td>1.307759e-06</td>\n",
       "      <td>0.000000e+00</td>\n",
       "      <td>0.000000e+00</td>\n",
       "      <td>0.000000e+00</td>\n",
       "      <td>3.790553e-108</td>\n",
       "    </tr>\n",
       "    <tr>\n",
       "      <th>previous</th>\n",
       "      <td>3.183471e-13</td>\n",
       "      <td>1.431440e-03</td>\n",
       "      <td>8.192732e-07</td>\n",
       "      <td>9.715925e-05</td>\n",
       "      <td>3.121519e-15</td>\n",
       "      <td>1.886590e-02</td>\n",
       "      <td>6.567538e-237</td>\n",
       "      <td>3.718515e-296</td>\n",
       "      <td>0.000000e+00</td>\n",
       "      <td>7.801830e-88</td>\n",
       "    </tr>\n",
       "  </tbody>\n",
       "</table>\n",
       "</div>"
      ],
      "text/plain": [
       "                   job       marital     education       default  \\\n",
       "age       0.000000e+00  0.000000e+00  0.000000e+00  1.436177e-04   \n",
       "balance   5.709430e-94  1.605587e-08  2.849538e-75  8.246278e-46   \n",
       "day       5.489892e-17  2.597196e-01  1.089429e-06  4.509349e-02   \n",
       "duration  1.232447e-11  5.697950e-06  8.837767e-01  3.310185e-02   \n",
       "campaign  6.253473e-24  2.013545e-10  1.824042e-04  3.476985e-04   \n",
       "pdays     1.107741e-27  2.817855e-09  8.522341e-06  1.820913e-10   \n",
       "previous  3.183471e-13  1.431440e-03  8.192732e-07  9.715925e-05   \n",
       "\n",
       "                housing          loan        contact          month  \\\n",
       "age        0.000000e+00  8.719799e-04  1.597830e-290  3.059617e-245   \n",
       "balance    1.582632e-48  3.544641e-72   1.244231e-24  2.002290e-231   \n",
       "day        2.669905e-09  1.562178e-02   2.050227e-15   0.000000e+00   \n",
       "duration   2.805147e-01  8.310901e-03   2.239459e-09   1.079679e-38   \n",
       "campaign   5.212410e-07  3.383802e-02   3.199084e-31   0.000000e+00   \n",
       "pdays     8.305619e-155  1.307759e-06   0.000000e+00   0.000000e+00   \n",
       "previous   3.121519e-15  1.886590e-02  6.567538e-237  3.718515e-296   \n",
       "\n",
       "               poutcome         Target  \n",
       "age        4.840702e-17   8.825644e-08  \n",
       "balance    3.088104e-15   2.521114e-29  \n",
       "day        2.009226e-73   1.653880e-09  \n",
       "duration   4.250760e-20   0.000000e+00  \n",
       "campaign  2.888451e-124   1.012347e-54  \n",
       "pdays      0.000000e+00  3.790553e-108  \n",
       "previous   0.000000e+00   7.801830e-88  "
      ]
     },
     "execution_count": 50,
     "metadata": {},
     "output_type": "execute_result"
    }
   ],
   "source": [
    "#Finding Relation between independent Discrete variables and independent continous variables\n",
    "\n",
    "anova_result = pd.DataFrame([])\n",
    "obj_cols = campaign_copy_df.select_dtypes(include = ['object'])\n",
    "\n",
    "#applying anova test for continuous variable and discrete variables\n",
    "for i in num_cols:\n",
    "    for j in obj_cols:        \n",
    "        model = ols(i+' ~ C('+j+')', campaign_copy_df).fit()\n",
    "        anova_result.loc[i,j] = sm.stats.anova_lm(model,typ=1).iloc[0]['PR(>F)']\n",
    "        \n",
    "anova_result"
   ]
  },
  {
   "cell_type": "markdown",
   "metadata": {},
   "source": [
    "Inference:          \n",
    "1) Job and age have good dependency           \n",
    "2) Marital and age are interlinked            \n",
    "3) Education and age are tightly coupled           \n",
    "4) Housing and age are having good dependencies          \n",
    "5) contact and pdays have strong relationship          \n",
    "6) month is having good dependency with pdays, duration and day       "
   ]
  },
  {
   "cell_type": "code",
   "execution_count": 51,
   "metadata": {},
   "outputs": [
    {
     "name": "stdout",
     "output_type": "stream",
     "text": [
      "Index(['job', 'marital', 'education', 'default', 'housing', 'loan', 'contact',\n",
      "       'month', 'poutcome', 'Target'],\n",
      "      dtype='object')\n"
     ]
    },
    {
     "data": {
      "text/plain": [
       "<matplotlib.axes._subplots.AxesSubplot at 0x1e2d6a5e688>"
      ]
     },
     "execution_count": 51,
     "metadata": {},
     "output_type": "execute_result"
    },
    {
     "data": {
      "image/png": "[encoded data removed]",
      "text/plain": [
       "<Figure size 1080x288 with 1 Axes>"
      ]
     },
     "metadata": {
      "needs_background": "light"
     },
     "output_type": "display_data"
    }
   ],
   "source": [
    "#Discrete Data Analysis\n",
    "\n",
    "obj_cols = campaign_copy_df.select_dtypes(include = ['object'])\n",
    "\n",
    "print(obj_cols.columns)\n",
    "plt.figure(figsize=(15,4))\n",
    "plt.subplot(1, 1, 1)\n",
    "plt.xticks(rotation=90)\n",
    "plt.title('DISTRIBUTION OF JOB')\n",
    "sns.countplot(campaign_copy_df['job'], hue=campaign_copy_df['Target'])"
   ]
  },
  {
   "cell_type": "markdown",
   "metadata": {},
   "source": [
    "Inference for job:                 \n",
    "1) Most of the customers belong to the job category of management, technician, blue-collar.          \n",
    "2) A very few are in student and unknown subclassification.     "
   ]
  },
  {
   "cell_type": "code",
   "execution_count": 52,
   "metadata": {},
   "outputs": [
    {
     "data": {
      "text/plain": [
       "<matplotlib.axes._subplots.AxesSubplot at 0x1e2d8a32048>"
      ]
     },
     "execution_count": 52,
     "metadata": {},
     "output_type": "execute_result"
    },
    {
     "data": {
      "image/png": "[encoded data removed]",
      "text/plain": [
       "<Figure size 1080x360 with 2 Axes>"
      ]
     },
     "metadata": {
      "needs_background": "light"
     },
     "output_type": "display_data"
    },
    {
     "data": {
      "image/png": "[encoded data removed]",
      "text/plain": [
       "<Figure size 1080x288 with 2 Axes>"
      ]
     },
     "metadata": {
      "needs_background": "light"
     },
     "output_type": "display_data"
    }
   ],
   "source": [
    "plt.figure(figsize=(15,5))\n",
    "plt.subplot(1, 2, 1)\n",
    "plt.title('Distribution of marital')\n",
    "sns.countplot(campaign_copy_df['marital'], hue=campaign_copy_df['Target'])\n",
    "\n",
    "plt.subplot(1, 2, 2)\n",
    "plt.title('Distribution of education')\n",
    "sns.countplot(campaign_copy_df['education'], hue=campaign_copy_df['Target'])\n",
    "\n",
    "plt.figure(figsize=(15,4))\n",
    "plt.subplot(1, 2, 1)\n",
    "plt.title('Distribution of default')\n",
    "sns.countplot(campaign_copy_df['default'], hue=campaign_copy_df['Target'])\n",
    "\n",
    "plt.subplot(1, 2, 2)\n",
    "plt.title('Distribution of housing')\n",
    "sns.countplot(campaign_copy_df['housing'], hue=campaign_copy_df['Target'])"
   ]
  },
  {
   "cell_type": "markdown",
   "metadata": {},
   "source": [
    "marital status : maximum customers are married and a very few divorced.\n",
    "\n",
    "education status: most of the people have completed secondary education.\n",
    "\n",
    "default status: a few customers have defaulted the loan. most of them have no default.\n",
    "\n",
    "housing: number of people who have taken housing loan is higher when compare to those who don't."
   ]
  },
  {
   "cell_type": "code",
   "execution_count": 53,
   "metadata": {},
   "outputs": [
    {
     "data": {
      "text/plain": [
       "<matplotlib.axes._subplots.AxesSubplot at 0x1e2d85b1cc8>"
      ]
     },
     "execution_count": 53,
     "metadata": {},
     "output_type": "execute_result"
    },
    {
     "data": {
      "image/png": "[encoded data removed]",
      "text/plain": [
       "<Figure size 1080x360 with 2 Axes>"
      ]
     },
     "metadata": {
      "needs_background": "light"
     },
     "output_type": "display_data"
    },
    {
     "data": {
      "image/png": "[encoded data removed]",
      "text/plain": [
       "<Figure size 1080x288 with 2 Axes>"
      ]
     },
     "metadata": {
      "needs_background": "light"
     },
     "output_type": "display_data"
    }
   ],
   "source": [
    "plt.figure(figsize=(15,5))\n",
    "plt.subplot(1, 2, 1)\n",
    "plt.title('Distribution of loan')\n",
    "sns.countplot(campaign_copy_df['loan'],hue=campaign_copy_df['Target'])\n",
    "\n",
    "plt.subplot(1, 2, 2)\n",
    "plt.title('Distribution of contact')\n",
    "sns.countplot(campaign_copy_df['contact'], hue=campaign_copy_df['Target'])\n",
    "\n",
    "plt.figure(figsize=(15,4))\n",
    "plt.subplot(1, 2, 1)\n",
    "plt.title('Distribution of month')\n",
    "sns.countplot(campaign_copy_df['month'], hue=campaign_copy_df['Target'])\n",
    "\n",
    "plt.subplot(1, 2, 2)\n",
    "plt.title('Distribution of poutcome')\n",
    "sns.countplot(campaign_copy_df['poutcome'], hue=campaign_copy_df['Target'])"
   ]
  },
  {
   "cell_type": "markdown",
   "metadata": {},
   "source": [
    "personal loan: most of the customers do not take personal loan.\n",
    "\n",
    "contact: most of the people have communication type as 'cellular contact'.\n",
    "\n",
    "month: 'may' month is when the customers were contacted more frequently. conversely, a very less number of calls have been made on the months 'mar', 'sep', 'oct', 'dec'.\n",
    "\n",
    "poutcome: most of the previous outcome is unknown.\n",
    "\n",
    "Chisquare test to understand the relationship between target and nominal independent variables."
   ]
  },
  {
   "cell_type": "code",
   "execution_count": 54,
   "metadata": {},
   "outputs": [
    {
     "data": {
      "text/html": [
       "<div>\n",
       "<style scoped>\n",
       "    .dataframe tbody tr th:only-of-type {\n",
       "        vertical-align: middle;\n",
       "    }\n",
       "\n",
       "    .dataframe tbody tr th {\n",
       "        vertical-align: top;\n",
       "    }\n",
       "\n",
       "    .dataframe thead th {\n",
       "        text-align: right;\n",
       "    }\n",
       "</style>\n",
       "<table border=\"1\" class=\"dataframe\">\n",
       "  <thead>\n",
       "    <tr style=\"text-align: right;\">\n",
       "      <th></th>\n",
       "      <th>job</th>\n",
       "      <th>marital</th>\n",
       "      <th>education</th>\n",
       "      <th>default</th>\n",
       "      <th>housing</th>\n",
       "      <th>loan</th>\n",
       "      <th>contact</th>\n",
       "      <th>month</th>\n",
       "      <th>poutcome</th>\n",
       "      <th>Target</th>\n",
       "    </tr>\n",
       "  </thead>\n",
       "  <tbody>\n",
       "    <tr>\n",
       "      <th>job</th>\n",
       "      <td>0</td>\n",
       "      <td>0</td>\n",
       "      <td>0</td>\n",
       "      <td>8.00804e-09</td>\n",
       "      <td>0</td>\n",
       "      <td>5.93733e-103</td>\n",
       "      <td>0</td>\n",
       "      <td>0</td>\n",
       "      <td>6.1114e-97</td>\n",
       "      <td>3.33712e-172</td>\n",
       "    </tr>\n",
       "    <tr>\n",
       "      <th>marital</th>\n",
       "      <td>0</td>\n",
       "      <td>0</td>\n",
       "      <td>8.20775e-286</td>\n",
       "      <td>0.000234116</td>\n",
       "      <td>6.29978e-05</td>\n",
       "      <td>3.2987e-27</td>\n",
       "      <td>1.11455e-38</td>\n",
       "      <td>3.24889e-86</td>\n",
       "      <td>1.90312e-14</td>\n",
       "      <td>2.1451e-43</td>\n",
       "    </tr>\n",
       "    <tr>\n",
       "      <th>education</th>\n",
       "      <td>0</td>\n",
       "      <td>8.20775e-286</td>\n",
       "      <td>0</td>\n",
       "      <td>0.00963816</td>\n",
       "      <td>3.07848e-139</td>\n",
       "      <td>7.33079e-63</td>\n",
       "      <td>1.99969e-291</td>\n",
       "      <td>0</td>\n",
       "      <td>1.95544e-32</td>\n",
       "      <td>1.62666e-51</td>\n",
       "    </tr>\n",
       "    <tr>\n",
       "      <th>default</th>\n",
       "      <td>8.00804e-09</td>\n",
       "      <td>0.000234116</td>\n",
       "      <td>0.00963816</td>\n",
       "      <td>0</td>\n",
       "      <td>0.212925</td>\n",
       "      <td>2.93096e-60</td>\n",
       "      <td>1.42014e-06</td>\n",
       "      <td>1.0422e-27</td>\n",
       "      <td>6.53992e-16</td>\n",
       "      <td>2.45386e-06</td>\n",
       "    </tr>\n",
       "    <tr>\n",
       "      <th>housing</th>\n",
       "      <td>0</td>\n",
       "      <td>6.29978e-05</td>\n",
       "      <td>3.07848e-139</td>\n",
       "      <td>0.212925</td>\n",
       "      <td>0</td>\n",
       "      <td>1.73153e-18</td>\n",
       "      <td>0</td>\n",
       "      <td>0</td>\n",
       "      <td>1.64233e-200</td>\n",
       "      <td>2.9188e-192</td>\n",
       "    </tr>\n",
       "    <tr>\n",
       "      <th>loan</th>\n",
       "      <td>5.93733e-103</td>\n",
       "      <td>3.2987e-27</td>\n",
       "      <td>7.33079e-63</td>\n",
       "      <td>2.93096e-60</td>\n",
       "      <td>1.73153e-18</td>\n",
       "      <td>0</td>\n",
       "      <td>0.00251184</td>\n",
       "      <td>0</td>\n",
       "      <td>1.02052e-29</td>\n",
       "      <td>1.66506e-47</td>\n",
       "    </tr>\n",
       "    <tr>\n",
       "      <th>contact</th>\n",
       "      <td>0</td>\n",
       "      <td>1.11455e-38</td>\n",
       "      <td>1.99969e-291</td>\n",
       "      <td>1.42014e-06</td>\n",
       "      <td>0</td>\n",
       "      <td>0.00251184</td>\n",
       "      <td>0</td>\n",
       "      <td>0</td>\n",
       "      <td>0</td>\n",
       "      <td>1.25174e-225</td>\n",
       "    </tr>\n",
       "    <tr>\n",
       "      <th>month</th>\n",
       "      <td>0</td>\n",
       "      <td>3.24889e-86</td>\n",
       "      <td>0</td>\n",
       "      <td>1.0422e-27</td>\n",
       "      <td>0</td>\n",
       "      <td>0</td>\n",
       "      <td>0</td>\n",
       "      <td>0</td>\n",
       "      <td>0</td>\n",
       "      <td>0</td>\n",
       "    </tr>\n",
       "    <tr>\n",
       "      <th>poutcome</th>\n",
       "      <td>6.1114e-97</td>\n",
       "      <td>1.90312e-14</td>\n",
       "      <td>1.95544e-32</td>\n",
       "      <td>6.53992e-16</td>\n",
       "      <td>1.64233e-200</td>\n",
       "      <td>1.02052e-29</td>\n",
       "      <td>0</td>\n",
       "      <td>0</td>\n",
       "      <td>0</td>\n",
       "      <td>0</td>\n",
       "    </tr>\n",
       "    <tr>\n",
       "      <th>Target</th>\n",
       "      <td>3.33712e-172</td>\n",
       "      <td>2.1451e-43</td>\n",
       "      <td>1.62666e-51</td>\n",
       "      <td>2.45386e-06</td>\n",
       "      <td>2.9188e-192</td>\n",
       "      <td>1.66506e-47</td>\n",
       "      <td>1.25174e-225</td>\n",
       "      <td>0</td>\n",
       "      <td>0</td>\n",
       "      <td>0</td>\n",
       "    </tr>\n",
       "  </tbody>\n",
       "</table>\n",
       "</div>"
      ],
      "text/plain": [
       "                    job       marital     education      default  \\\n",
       "job                   0             0             0  8.00804e-09   \n",
       "marital               0             0  8.20775e-286  0.000234116   \n",
       "education             0  8.20775e-286             0   0.00963816   \n",
       "default     8.00804e-09   0.000234116    0.00963816            0   \n",
       "housing               0   6.29978e-05  3.07848e-139     0.212925   \n",
       "loan       5.93733e-103    3.2987e-27   7.33079e-63  2.93096e-60   \n",
       "contact               0   1.11455e-38  1.99969e-291  1.42014e-06   \n",
       "month                 0   3.24889e-86             0   1.0422e-27   \n",
       "poutcome     6.1114e-97   1.90312e-14   1.95544e-32  6.53992e-16   \n",
       "Target     3.33712e-172    2.1451e-43   1.62666e-51  2.45386e-06   \n",
       "\n",
       "                housing          loan       contact        month  \\\n",
       "job                   0  5.93733e-103             0            0   \n",
       "marital     6.29978e-05    3.2987e-27   1.11455e-38  3.24889e-86   \n",
       "education  3.07848e-139   7.33079e-63  1.99969e-291            0   \n",
       "default        0.212925   2.93096e-60   1.42014e-06   1.0422e-27   \n",
       "housing               0   1.73153e-18             0            0   \n",
       "loan        1.73153e-18             0    0.00251184            0   \n",
       "contact               0    0.00251184             0            0   \n",
       "month                 0             0             0            0   \n",
       "poutcome   1.64233e-200   1.02052e-29             0            0   \n",
       "Target      2.9188e-192   1.66506e-47  1.25174e-225            0   \n",
       "\n",
       "               poutcome        Target  \n",
       "job          6.1114e-97  3.33712e-172  \n",
       "marital     1.90312e-14    2.1451e-43  \n",
       "education   1.95544e-32   1.62666e-51  \n",
       "default     6.53992e-16   2.45386e-06  \n",
       "housing    1.64233e-200   2.9188e-192  \n",
       "loan        1.02052e-29   1.66506e-47  \n",
       "contact               0  1.25174e-225  \n",
       "month                 0             0  \n",
       "poutcome              0             0  \n",
       "Target                0             0  "
      ]
     },
     "execution_count": 54,
     "metadata": {},
     "output_type": "execute_result"
    }
   ],
   "source": [
    "chisquare_df = pd.DataFrame([], columns=obj_cols.columns, index = obj_cols.columns)\n",
    "#calculate the pvalue from chisquare stats\n",
    "for i in obj_cols:            \n",
    "    for j in obj_cols:            \n",
    "        cont = pd.crosstab(campaign_copy_df[i], campaign_copy_df[j])            \n",
    "        chisquare_df.loc[i,j] = chi2_contingency(cont)[1]        \n",
    "\n",
    "chisquare_df"
   ]
  },
  {
   "cell_type": "markdown",
   "metadata": {},
   "source": [
    "Inference of categorical correlation analysis:          \n",
    "Strong predictors:               \n",
    "\"Job\", \"housing\", \"contact\" , \"month\", \"poutcome\"             \n",
    "\n",
    "very moderate predictors:                  \n",
    "\"marital\", \"education\", \"loan\"            \n",
    "\n",
    "weak predictor:                 \n",
    "\"default\"                    \n",
    "\n",
    "Continuous variables to be excluded:          \n",
    "age - weak predictor            \n",
    "day - weak predictor               \n",
    "previous - since 'pdays' and 'previous' have strong correlation           \n",
    "duration - should not be included for predictive model           \n",
    "                 \n",
    "Discrete variables to be excluded:         \n",
    "Target - output to be predicted              \n",
    "default - weak predictor              \n",
    "marital, education - not strong predictors. The same info can be represented by job        \n",
    "loan - It has good dependency with month and job       "
   ]
  },
  {
   "cell_type": "code",
   "execution_count": 55,
   "metadata": {},
   "outputs": [
    {
     "name": "stdout",
     "output_type": "stream",
     "text": [
      "Total Target yes Values    : 5289 (11.70%)\n",
      "Total Target no  Values    : 39922 (88.30%)\n",
      "\n"
     ]
    },
    {
     "data": {
      "image/png": "[encoded data removed]",
      "text/plain": [
       "<Figure size 360x216 with 1 Axes>"
      ]
     },
     "metadata": {
      "needs_background": "light"
     },
     "output_type": "display_data"
    }
   ],
   "source": [
    "#display the proportions of the target variable to check the distribution\n",
    "plt.figure(figsize=(5,3))\n",
    "sns.countplot(campaign_copy_df['Target'])\n",
    "Target_count = campaign_copy_df['Target'].value_counts()\n",
    "\n",
    "print(\"Total Target yes Values    : {0} ({1:0.2f}%)\".format(len(campaign_copy_df.loc[campaign_copy_df['Target'] == 'yes']), (len(campaign_copy_df.loc[campaign_copy_df['Target'] == 'yes'])/len(campaign_copy_df.index)) * 100))\n",
    "print(\"Total Target no  Values    : {0} ({1:0.2f}%)\".format(len(campaign_copy_df.loc[campaign_copy_df['Target'] == 'no']), (len(campaign_copy_df.loc[campaign_copy_df['Target'] == 'no'])/len(campaign_copy_df.index)) * 100))\n",
    "print(\"\")"
   ]
  },
  {
   "cell_type": "markdown",
   "metadata": {},
   "source": [
    "Target data proportions\n",
    "\n",
    "The proportion of Target 'no' is very high when compare to Target 'yes'."
   ]
  },
  {
   "cell_type": "code",
   "execution_count": 56,
   "metadata": {},
   "outputs": [],
   "source": [
    "#preparing the data for models\n",
    "#dropping the irrelevant columns\n",
    "X = campaign_copy_df.drop(['age','day','balance','previous','duration','Target','default','loan','marital','education'],axis=1)\n",
    "y = campaign_copy_df['Target'].replace({'no':0,'yes':1})\n",
    "\n",
    "obj_cols = X.select_dtypes(include = ['object']).columns.values\n",
    "num_cols = X.select_dtypes(include = ['int64']).columns.values\n",
    "\n",
    "#use min_max_scaler to scale the numeric data\n",
    "minmaxscaler = MinMaxScaler()\n",
    "x = minmaxscaler.fit_transform(X[num_cols])\n",
    "\n",
    "final_x = pd.DataFrame(x,columns=num_cols).join(X[obj_cols])"
   ]
  },
  {
   "cell_type": "code",
   "execution_count": 57,
   "metadata": {},
   "outputs": [
    {
     "name": "stdout",
     "output_type": "stream",
     "text": [
      "Shape of the final input: (45211, 7)\n",
      "\n",
      "finalised independent features:\n",
      " ['campaign' 'pdays' 'job' 'housing' 'contact' 'month' 'poutcome']\n"
     ]
    }
   ],
   "source": [
    "#print the shape of the final file\n",
    "print(\"Shape of the final input:\",final_x.shape)\n",
    "\n",
    "#print the finalised independent features\n",
    "print(\"\\nfinalised independent features:\\n\",final_x.columns.values)"
   ]
  },
  {
   "cell_type": "code",
   "execution_count": 58,
   "metadata": {},
   "outputs": [],
   "source": [
    "#Splitting the data into 70% train and 30% test\n",
    "\n",
    "train_x,test_x,train_y,test_y = train_test_split(final_x,y,test_size=0.3,random_state=10)"
   ]
  },
  {
   "cell_type": "code",
   "execution_count": 59,
   "metadata": {},
   "outputs": [
    {
     "name": "stdout",
     "output_type": "stream",
     "text": [
      "Original subscribed True Values    : 5289 (11.70%)\n",
      "Original subscribed False Values   : 39922 (88.30%)\n",
      "\n",
      "Training subscribed True Values    : 3731 (11.79%)\n",
      "Training subscribed False Values   : 27916 (88.21%)\n",
      "\n",
      "Test subscribed True Values        : 1558 (11.49%)\n",
      "Test subscribed False Values       : 12006 (88.51%)\n",
      "\n"
     ]
    }
   ],
   "source": [
    "print(\"Original subscribed True Values    : {0} ({1:0.2f}%)\".format(len(campaign_copy_df.loc[campaign_copy_df['Target'] == 'yes']), (len(campaign_copy_df.loc[campaign_copy_df['Target'] == 'yes'])/len(campaign_copy_df.index)) * 100))\n",
    "print(\"Original subscribed False Values   : {0} ({1:0.2f}%)\".format(len(campaign_copy_df.loc[campaign_copy_df['Target'] == 'no']), (len(campaign_copy_df.loc[campaign_copy_df['Target'] == 'no'])/len(campaign_copy_df.index)) * 100))\n",
    "print(\"\")\n",
    "print(\"Training subscribed True Values    : {0} ({1:0.2f}%)\".format(len(train_y[train_y[:] == 1]), (len(train_y[train_y[:] == 1])/len(train_y)) * 100))\n",
    "print(\"Training subscribed False Values   : {0} ({1:0.2f}%)\".format(len(train_y[train_y[:] == 0]), (len(train_y[train_y[:] == 0])/len(train_y)) * 100))\n",
    "print(\"\")\n",
    "print(\"Test subscribed True Values        : {0} ({1:0.2f}%)\".format(len(test_y[test_y[:] == 1]), (len(test_y[test_y[:] == 1])/len(test_y)) * 100))\n",
    "print(\"Test subscribed False Values       : {0} ({1:0.2f}%)\".format(len(test_y[test_y[:] == 0]), (len(test_y[test_y[:] == 0])/len(test_y)) * 100))\n",
    "print(\"\")"
   ]
  },
  {
   "cell_type": "code",
   "execution_count": 60,
   "metadata": {},
   "outputs": [
    {
     "name": "stdout",
     "output_type": "stream",
     "text": [
      "Format1 training input: (31647, 30)\n",
      "Format1 testing input: (13564, 30)\n",
      "Format2 training input: (31647, 7)\n",
      "Format2 testing input: (13564, 7)\n"
     ]
    }
   ],
   "source": [
    "#we should have the train and test inputs in two formats\n",
    "\n",
    "#format1 : To provide input to logistic regression and svm dropping one column\n",
    "train_x1 = pd.get_dummies(train_x,drop_first=True)\n",
    "test_x1 = pd.get_dummies(test_x,drop_first=True)\n",
    "\n",
    "#format2 : keeping train_x and test_x same for catboost\n",
    "\n",
    "#print the shape of all the input datas\n",
    "print(\"Format1 training input:\", train_x1.shape)\n",
    "print(\"Format1 testing input:\", test_x1.shape)\n",
    "print(\"Format2 training input:\", train_x.shape)\n",
    "print(\"Format2 testing input:\", test_x.shape)"
   ]
  },
  {
   "cell_type": "code",
   "execution_count": 61,
   "metadata": {},
   "outputs": [
    {
     "data": {
      "text/html": [
       "<div>\n",
       "<style scoped>\n",
       "    .dataframe tbody tr th:only-of-type {\n",
       "        vertical-align: middle;\n",
       "    }\n",
       "\n",
       "    .dataframe tbody tr th {\n",
       "        vertical-align: top;\n",
       "    }\n",
       "\n",
       "    .dataframe thead th {\n",
       "        text-align: right;\n",
       "    }\n",
       "</style>\n",
       "<table border=\"1\" class=\"dataframe\">\n",
       "  <thead>\n",
       "    <tr style=\"text-align: right;\">\n",
       "      <th></th>\n",
       "      <th>Features</th>\n",
       "      <th>VIF</th>\n",
       "    </tr>\n",
       "  </thead>\n",
       "  <tbody>\n",
       "    <tr>\n",
       "      <th>29</th>\n",
       "      <td>poutcome_unknown</td>\n",
       "      <td>14.09</td>\n",
       "    </tr>\n",
       "    <tr>\n",
       "      <th>23</th>\n",
       "      <td>month_may</td>\n",
       "      <td>5.73</td>\n",
       "    </tr>\n",
       "    <tr>\n",
       "      <th>15</th>\n",
       "      <td>contact_unknown</td>\n",
       "      <td>3.31</td>\n",
       "    </tr>\n",
       "    <tr>\n",
       "      <th>21</th>\n",
       "      <td>month_jun</td>\n",
       "      <td>3.22</td>\n",
       "    </tr>\n",
       "    <tr>\n",
       "      <th>13</th>\n",
       "      <td>housing_yes</td>\n",
       "      <td>3.06</td>\n",
       "    </tr>\n",
       "    <tr>\n",
       "      <th>20</th>\n",
       "      <td>month_jul</td>\n",
       "      <td>3.03</td>\n",
       "    </tr>\n",
       "    <tr>\n",
       "      <th>1</th>\n",
       "      <td>pdays</td>\n",
       "      <td>2.99</td>\n",
       "    </tr>\n",
       "    <tr>\n",
       "      <th>16</th>\n",
       "      <td>month_aug</td>\n",
       "      <td>2.95</td>\n",
       "    </tr>\n",
       "    <tr>\n",
       "      <th>2</th>\n",
       "      <td>job_blue-collar</td>\n",
       "      <td>2.70</td>\n",
       "    </tr>\n",
       "    <tr>\n",
       "      <th>5</th>\n",
       "      <td>job_management</td>\n",
       "      <td>2.63</td>\n",
       "    </tr>\n",
       "    <tr>\n",
       "      <th>10</th>\n",
       "      <td>job_technician</td>\n",
       "      <td>2.31</td>\n",
       "    </tr>\n",
       "    <tr>\n",
       "      <th>24</th>\n",
       "      <td>month_nov</td>\n",
       "      <td>1.90</td>\n",
       "    </tr>\n",
       "    <tr>\n",
       "      <th>8</th>\n",
       "      <td>job_services</td>\n",
       "      <td>1.72</td>\n",
       "    </tr>\n",
       "    <tr>\n",
       "      <th>18</th>\n",
       "      <td>month_feb</td>\n",
       "      <td>1.64</td>\n",
       "    </tr>\n",
       "    <tr>\n",
       "      <th>0</th>\n",
       "      <td>campaign</td>\n",
       "      <td>1.42</td>\n",
       "    </tr>\n",
       "    <tr>\n",
       "      <th>6</th>\n",
       "      <td>job_retired</td>\n",
       "      <td>1.40</td>\n",
       "    </tr>\n",
       "    <tr>\n",
       "      <th>27</th>\n",
       "      <td>poutcome_other</td>\n",
       "      <td>1.32</td>\n",
       "    </tr>\n",
       "    <tr>\n",
       "      <th>19</th>\n",
       "      <td>month_jan</td>\n",
       "      <td>1.31</td>\n",
       "    </tr>\n",
       "    <tr>\n",
       "      <th>28</th>\n",
       "      <td>poutcome_success</td>\n",
       "      <td>1.27</td>\n",
       "    </tr>\n",
       "    <tr>\n",
       "      <th>7</th>\n",
       "      <td>job_self-employed</td>\n",
       "      <td>1.26</td>\n",
       "    </tr>\n",
       "    <tr>\n",
       "      <th>3</th>\n",
       "      <td>job_entrepreneur</td>\n",
       "      <td>1.25</td>\n",
       "    </tr>\n",
       "    <tr>\n",
       "      <th>11</th>\n",
       "      <td>job_unemployed</td>\n",
       "      <td>1.23</td>\n",
       "    </tr>\n",
       "    <tr>\n",
       "      <th>4</th>\n",
       "      <td>job_housemaid</td>\n",
       "      <td>1.22</td>\n",
       "    </tr>\n",
       "    <tr>\n",
       "      <th>25</th>\n",
       "      <td>month_oct</td>\n",
       "      <td>1.19</td>\n",
       "    </tr>\n",
       "    <tr>\n",
       "      <th>9</th>\n",
       "      <td>job_student</td>\n",
       "      <td>1.17</td>\n",
       "    </tr>\n",
       "    <tr>\n",
       "      <th>26</th>\n",
       "      <td>month_sep</td>\n",
       "      <td>1.16</td>\n",
       "    </tr>\n",
       "    <tr>\n",
       "      <th>14</th>\n",
       "      <td>contact_telephone</td>\n",
       "      <td>1.14</td>\n",
       "    </tr>\n",
       "    <tr>\n",
       "      <th>22</th>\n",
       "      <td>month_mar</td>\n",
       "      <td>1.13</td>\n",
       "    </tr>\n",
       "    <tr>\n",
       "      <th>17</th>\n",
       "      <td>month_dec</td>\n",
       "      <td>1.06</td>\n",
       "    </tr>\n",
       "    <tr>\n",
       "      <th>12</th>\n",
       "      <td>job_unknown</td>\n",
       "      <td>1.06</td>\n",
       "    </tr>\n",
       "  </tbody>\n",
       "</table>\n",
       "</div>"
      ],
      "text/plain": [
       "             Features    VIF\n",
       "29   poutcome_unknown  14.09\n",
       "23          month_may   5.73\n",
       "15    contact_unknown   3.31\n",
       "21          month_jun   3.22\n",
       "13        housing_yes   3.06\n",
       "20          month_jul   3.03\n",
       "1               pdays   2.99\n",
       "16          month_aug   2.95\n",
       "2     job_blue-collar   2.70\n",
       "5      job_management   2.63\n",
       "10     job_technician   2.31\n",
       "24          month_nov   1.90\n",
       "8        job_services   1.72\n",
       "18          month_feb   1.64\n",
       "0            campaign   1.42\n",
       "6         job_retired   1.40\n",
       "27     poutcome_other   1.32\n",
       "19          month_jan   1.31\n",
       "28   poutcome_success   1.27\n",
       "7   job_self-employed   1.26\n",
       "3    job_entrepreneur   1.25\n",
       "11     job_unemployed   1.23\n",
       "4       job_housemaid   1.22\n",
       "25          month_oct   1.19\n",
       "9         job_student   1.17\n",
       "26          month_sep   1.16\n",
       "14  contact_telephone   1.14\n",
       "22          month_mar   1.13\n",
       "17          month_dec   1.06\n",
       "12        job_unknown   1.06"
      ]
     },
     "execution_count": 61,
     "metadata": {},
     "output_type": "execute_result"
    }
   ],
   "source": [
    "#use variance influence factor to eliminate redundant features\n",
    "from statsmodels.stats.outliers_influence import variance_inflation_factor\n",
    "\n",
    "vif = pd.DataFrame()\n",
    "X = train_x1\n",
    "vif['Features'] = X.columns\n",
    "vif['VIF'] = [variance_inflation_factor(X.values, i) for i in range(X.shape[1])]\n",
    "vif['VIF'] = round(vif['VIF'], 2)\n",
    "vif = vif.sort_values(by = \"VIF\", ascending = False)\n",
    "vif"
   ]
  },
  {
   "cell_type": "code",
   "execution_count": 62,
   "metadata": {},
   "outputs": [],
   "source": [
    "#dataframe to store the results of all the algorithms\n",
    "col_names = ['train_score', 'test_score', 'precision',\n",
    "             'recall', 'F1_score']\n",
    "complete_result = pd.DataFrame([], columns = col_names)"
   ]
  },
  {
   "cell_type": "code",
   "execution_count": 63,
   "metadata": {},
   "outputs": [
    {
     "name": "stdout",
     "output_type": "stream",
     "text": [
      "The confusion matrix of svm linear:\n",
      " [[  289  1269]\n",
      " [  162 11844]]\n"
     ]
    },
    {
     "data": {
      "image/png": "[encoded data removed]",
      "text/plain": [
       "<Figure size 504x360 with 2 Axes>"
      ]
     },
     "metadata": {
      "needs_background": "light"
     },
     "output_type": "display_data"
    }
   ],
   "source": [
    "svc = SVC(kernel='linear')\n",
    "svc.fit(train_x1, train_y)\n",
    "complete_result.loc['svm-linear', 'train_score'] = svc.score(train_x1, train_y)\n",
    "complete_result.loc['svm-linear', 'test_score'] = svc.score(test_x1, test_y)\n",
    "predict_y = svc.predict(test_x1)\n",
    "complete_result.loc['svm-linear', 'precision'] = precision_score(test_y, predict_y)\n",
    "complete_result.loc['svm-linear', 'recall'] = recall_score(test_y, predict_y)\n",
    "complete_result.loc['svm-linear', 'F1_score'] = f1_score(test_y, predict_y)\n",
    "\n",
    "\n",
    "#print confusion matrix\n",
    "cm = metrics.confusion_matrix(test_y,predict_y, labels = [1,0])\n",
    "df = pd.DataFrame(cm , index = [i for i in [\"1\",\"0\"]],\n",
    "                  columns = [i for i in [\"Predict 1\",\"Predict 0\"]])\n",
    "plt.figure(figsize = (7,5))\n",
    "ax = sns.heatmap(df,annot= True)\n",
    "bottom, top = ax.get_ylim()\n",
    "ax.set_ylim(bottom + 0.5, top - 0.5)\n",
    "\n",
    "print(\"The confusion matrix of svm linear:\\n\", cm)"
   ]
  },
  {
   "cell_type": "code",
   "execution_count": 66,
   "metadata": {},
   "outputs": [
    {
     "name": "stdout",
     "output_type": "stream",
     "text": [
      "The confusion matrix of svm rbf:\n",
      " [[  289  1269]\n",
      " [  162 11844]]\n"
     ]
    },
    {
     "data": {
      "image/png": "[encoded data removed]",
      "text/plain": [
       "<Figure size 504x360 with 2 Axes>"
      ]
     },
     "metadata": {
      "needs_background": "light"
     },
     "output_type": "display_data"
    }
   ],
   "source": [
    "#lets use rbf kernel\n",
    "svc_rbf = SVC(kernel='rbf', gamma='auto')\n",
    "svc_rbf.fit(train_x1, train_y)\n",
    "complete_result.loc['svm-rbf', 'train_score'] = svc_rbf.score(train_x1, train_y)\n",
    "complete_result.loc['svm-rbf', 'test_score'] = svc_rbf.score(test_x1, test_y)\n",
    "predict_y = svc_rbf.predict(test_x1)\n",
    "complete_result.loc['svm-rbf', 'precision'] = precision_score(test_y, predict_y)\n",
    "complete_result.loc['svm-rbf', 'recall'] = recall_score(test_y, predict_y)\n",
    "complete_result.loc['svm-rbf', 'F1_score'] = f1_score(test_y, predict_y)\n",
    "\n",
    "\n",
    "#print confusion matrix\n",
    "cm = metrics.confusion_matrix(test_y,predict_y, labels = [1,0])\n",
    "df = pd.DataFrame(cm , index = [i for i in [\"1\",\"0\"]],\n",
    "                  columns = [i for i in [\"Predict 1\",\"Predict 0\"]])\n",
    "plt.figure(figsize = (7,5))\n",
    "ax = sns.heatmap(df,annot= True)\n",
    "bottom, top = ax.get_ylim()\n",
    "ax.set_ylim(bottom + 0.5, top - 0.5)\n",
    "\n",
    "print(\"The confusion matrix of svm rbf:\\n\", cm)"
   ]
  },
  {
   "cell_type": "code",
   "execution_count": 67,
   "metadata": {},
   "outputs": [
    {
     "name": "stdout",
     "output_type": "stream",
     "text": [
      "The confusion matrix of svm rbf:\n",
      " [[  289  1269]\n",
      " [  162 11844]]\n"
     ]
    },
    {
     "data": {
      "image/png": "[encoded data removed]",
      "text/plain": [
       "<Figure size 504x360 with 2 Axes>"
      ]
     },
     "metadata": {
      "needs_background": "light"
     },
     "output_type": "display_data"
    }
   ],
   "source": [
    "#lets change the c value and check if there is any change\n",
    "#lets use rbf kernel\n",
    "svc_rbf = SVC(kernel='rbf', gamma='auto', C=0.7)\n",
    "svc_rbf.fit(train_x1, train_y)\n",
    "complete_result.loc['svm-rbf', 'train_score'] = svc_rbf.score(train_x1, train_y)\n",
    "complete_result.loc['svm-rbf', 'test_score'] = svc_rbf.score(test_x1, test_y)\n",
    "predict_y = svc_rbf.predict(test_x1)\n",
    "complete_result.loc['svm-rbf', 'precision'] = precision_score(test_y, predict_y)\n",
    "complete_result.loc['svm-rbf', 'recall'] = recall_score(test_y, predict_y)\n",
    "complete_result.loc['svm-rbf', 'F1_score'] = f1_score(test_y, predict_y)\n",
    "\n",
    "\n",
    "#print confusion matrix\n",
    "cm = metrics.confusion_matrix(test_y,predict_y, labels = [1,0])\n",
    "df = pd.DataFrame(cm , index = [i for i in [\"1\",\"0\"]],\n",
    "                  columns = [i for i in [\"Predict 1\",\"Predict 0\"]])\n",
    "plt.figure(figsize = (7,5))\n",
    "ax = sns.heatmap(df,annot= True)\n",
    "bottom, top = ax.get_ylim()\n",
    "ax.set_ylim(bottom + 0.5, top - 0.5)\n",
    "\n",
    "print(\"The confusion matrix of svm rbf:\\n\", cm)\n"
   ]
  },
  {
   "cell_type": "code",
   "execution_count": null,
   "metadata": {},
   "outputs": [],
   "source": []
  }
 ],
 "metadata": {
  "kernelspec": {
   "display_name": "Python 3",
   "language": "python",
   "name": "python3"
  },
  "language_info": {
   "codemirror_mode": {
    "name": "ipython",
    "version": 3
   },
   "file_extension": ".py",
   "mimetype": "text/x-python",
   "name": "python",
   "nbconvert_exporter": "python",
   "pygments_lexer": "ipython3",
   "version": "3.7.6"
  }
 },
 "nbformat": 4,
 "nbformat_minor": 4
}
